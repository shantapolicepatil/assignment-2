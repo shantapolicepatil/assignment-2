{
 "cells": [
  {
   "cell_type": "markdown",
   "id": "3397feac-8590-4a4c-b7f8-9292bf3a4316",
   "metadata": {},
   "source": [
    "### 1. Discuss String slicing and provide examples"
   ]
  },
  {
   "cell_type": "markdown",
   "id": "a0dd61c4-d269-4fe1-b9a9-5cd84fddcdd0",
   "metadata": {},
   "source": [
    "\"\"\" String slicing is a powerful feature in Python that allows you to extract a subset of characters from a string. \n",
    "It's a crucial concept for any programming task that involves manipulating text data.\n",
    "Syntax:string[start:stop:step]\n",
    "Parameters:- \n",
    "- start: The initial index of the slice (inclusive). Default is 0.\n",
    "- stop: The final index of the slice (exclusive). Default is the length of the string.\n",
    "- step: The increment between indices. Default is 1. \"\"\""
   ]
  },
  {
   "cell_type": "markdown",
   "id": "204661c0-1916-4b5f-b4d2-3c4e79a520b9",
   "metadata": {},
   "source": [
    "Example:\n",
    "\n",
    "Suppose we have a string my_string = \"AI World!\" \n",
    "Task: Extract the substring \"World\" from my_string.\n",
    "\n",
    "Solution:\n",
    "\n",
    "substring = my_string[4:8]\n",
    "my_string = \"AI World\"\n",
    "my_string[3:9] \n",
    "\n",
    "#Explanation:\n",
    "\n",
    "- start is set to 7, which is the index of the first character \"W\" in \"World\".\n",
    "- stop is set to 12, which is the index of the last character \"d\" in \"World\".\n",
    "- Since we didn't specify a step, it defaults to 1, meaning we move through the string one character at a time.\n",
    "\n",
    "Output: substring now holds the value \"World\".\n",
    "\n"
   ]
  },
  {
   "cell_type": "markdown",
   "id": "ee313b60-eb77-44c2-8902-e2f3baaeafef",
   "metadata": {},
   "source": [
    "Explanation:\n",
    "\n",
    "- start is set to 7, which is the index of the first character \"W\" in \"World\".\n",
    "- stop is set to 12, which is the index of the last character \"d\" in \"World\".\n",
    "- Since we didn't specify a step, it defaults to 1, meaning we move through the string one character at a time.\n",
    "\n",
    "Output: substring now holds the value \"World\".\n"
   ]
  },
  {
   "cell_type": "code",
   "execution_count": 6,
   "id": "aac06e3e-8e42-4caf-8c04-2babe734bb32",
   "metadata": {},
   "outputs": [
    {
     "data": {
      "text/plain": [
       "'AI '"
      ]
     },
     "execution_count": 6,
     "metadata": {},
     "output_type": "execute_result"
    }
   ],
   "source": [
    "my_string[0:3] #returns \"AI\" (from index 0 to 3)"
   ]
  },
  {
   "cell_type": "code",
   "execution_count": 9,
   "id": "5f10db6b-cc55-4733-9bc2-c6c7a80fff7d",
   "metadata": {},
   "outputs": [
    {
     "data": {
      "text/plain": [
       "'A ol'"
      ]
     },
     "execution_count": 9,
     "metadata": {},
     "output_type": "execute_result"
    }
   ],
   "source": [
    "my_string[0:8:2] # returns \"A ol\" (from index 0 to 8, stepping by 2) "
   ]
  },
  {
   "cell_type": "code",
   "execution_count": 10,
   "id": "d478e120-071f-4517-b15b-abb4113b9472",
   "metadata": {},
   "outputs": [
    {
     "data": {
      "text/plain": [
       "'dlroW IA'"
      ]
     },
     "execution_count": 10,
     "metadata": {},
     "output_type": "execute_result"
    }
   ],
   "source": [
    "my_string[::-1] # returns \"dlroW IA\" (the entire string in reverse)"
   ]
  },
  {
   "cell_type": "markdown",
   "id": "6bb9e1d5-b128-4dbf-b40c-cce9dea3ac86",
   "metadata": {},
   "source": [
    " Key Points:\n",
    "\n",
    "- Indexing starts at 0.\n",
    "- The stop index is exclusive.\n",
    "- Step can be negative, which means slicing from right to left.\n",
    "- Omitting start or stop indices defaults to the beginning or end of the string, respectively."
   ]
  },
  {
   "cell_type": "code",
   "execution_count": 11,
   "id": "4afb8126-296c-4dc2-ab81-631c9a244002",
   "metadata": {},
   "outputs": [
    {
     "data": {
      "text/plain": [
       "'AI Wo'"
      ]
     },
     "execution_count": 11,
     "metadata": {},
     "output_type": "execute_result"
    }
   ],
   "source": [
    "my_string[0:5]"
   ]
  },
  {
   "cell_type": "code",
   "execution_count": 12,
   "id": "c11a1499-3dfb-4a0d-8325-d361ce8a70e9",
   "metadata": {},
   "outputs": [
    {
     "data": {
      "text/plain": [
       "'World'"
      ]
     },
     "execution_count": 12,
     "metadata": {},
     "output_type": "execute_result"
    }
   ],
   "source": [
    "my_string[-5:]"
   ]
  },
  {
   "cell_type": "code",
   "execution_count": 15,
   "id": "b2507271-9597-455f-88c8-e53fff857db4",
   "metadata": {},
   "outputs": [
    {
     "data": {
      "text/plain": [
       "'ld'"
      ]
     },
     "execution_count": 15,
     "metadata": {},
     "output_type": "execute_result"
    }
   ],
   "source": [
    "my_string[6:9]"
   ]
  },
  {
   "cell_type": "markdown",
   "id": "4d9bf324-6d7c-4830-ab6e-e7bd6cdc85fc",
   "metadata": {},
   "source": [
    "### 2. Explain the key features of list in python"
   ]
  },
  {
   "cell_type": "markdown",
   "id": "24ef370d-16d6-452d-a05a-f45c539f83b8",
   "metadata": {},
   "source": [
    "In Python, a list is a collection of items that can be of any data type, including strings, integers, floats, and other lists. Here are the key features of lists in Python:\n",
    "\n",
    "1. Ordered: Lists maintain the order in which elements were added or inserted.\n",
    "2. Changeable: Lists are mutable, meaning you can add, remove, or modify elements after the list is created.\n",
    "3. Indexed: Each element in a list has a unique index, starting from 0, which allows for easy access and manipulation.\n",
    "4. Iterable: Lists can be iterated over using loops (e.g., for loops) to access each element.\n",
    "5. Flexible: Lists can contain elements of different data types, including other lists.\n",
    "6. Dynamic: Lists can grow or shrink dynamically as elements are added or removed.\n",
    "7. Supports various operations: Lists support various operations like concatenation, slicing, indexing, and more.\n",
    "8. Built-in methods: Lists have built-in methods like append, insert, remove, sort, and reverse that make it easy to manipulate and manage the list.\n",
    "\n",
    "Some important list methods in Python include:\n",
    "\n",
    "- append(element): Adds an element to the end of the list.\n",
    "- insert(index, element): Inserts an element at a specific index.\n",
    "- remove(element), pop (): Removes the first occurrence of an element.\n",
    "- sort(): Sorts the list in ascending order.\n",
    "- reverse(): Reverses the order of the list.\n",
    "- index(element): Returns the index of the first occurrence of an element.\n",
    "- len(): Returns the number of elements in the list.\n",
    "\n",
    "Lists are a fundamental data structure in Python and are widely used in various applications, including data analysis, machine learning, web development, and more."
   ]
  },
  {
   "cell_type": "markdown",
   "id": "056f8585-623b-49a6-9789-423b58ee7f3d",
   "metadata": {},
   "source": [
    "### 3.Discuss how to access, modify and delete the elements In list with example"
   ]
  },
  {
   "cell_type": "markdown",
   "id": "bd5f2b4d-109f-41dd-b3ed-241077d7a6e5",
   "metadata": {},
   "source": [
    "#### Accessing Elements:\n",
    "- Indexing: Use square brackets [] with the index number to access a specific element.\n",
    "- Example: \n"
   ]
  },
  {
   "cell_type": "code",
   "execution_count": 20,
   "id": "d4315041-d12a-4ca4-a911-bfda85f15c4c",
   "metadata": {},
   "outputs": [
    {
     "data": {
      "text/plain": [
       "1"
      ]
     },
     "execution_count": 20,
     "metadata": {},
     "output_type": "execute_result"
    }
   ],
   "source": [
    "my_list = [1, 2, 3, 4, 5]\n",
    "my_list[0]"
   ]
  },
  {
   "cell_type": "markdown",
   "id": "92be39f7-f54f-422f-9f84-e4bcaaf3163c",
   "metadata": {},
   "source": [
    "#### Modifying Elements:\n",
    "\n",
    "- we can modify the elements in the list using (=) to change the value of an element."
   ]
  },
  {
   "cell_type": "code",
   "execution_count": 21,
   "id": "48894f75-c145-4201-b7b1-ed276b9ec9fd",
   "metadata": {},
   "outputs": [
    {
     "data": {
      "text/plain": [
       "[1, 20, 3, 4, 5]"
      ]
     },
     "execution_count": 21,
     "metadata": {},
     "output_type": "execute_result"
    }
   ],
   "source": [
    "my_list = [1, 2, 3, 4, 5]\n",
    "my_list[1] = 20\n",
    "my_list"
   ]
  },
  {
   "cell_type": "markdown",
   "id": "341a098c-7d8f-4427-ba03-5ad496c17538",
   "metadata": {},
   "source": [
    "### Deleting Elements:\n",
    "\n",
    "- We Use the del keyword to delete an element at a specific index."
   ]
  },
  {
   "cell_type": "code",
   "execution_count": 22,
   "id": "b55ae38d-c082-4ed8-959e-77fcc7a56428",
   "metadata": {},
   "outputs": [
    {
     "data": {
      "text/plain": [
       "[2, 3, 4, 5]"
      ]
     },
     "execution_count": 22,
     "metadata": {},
     "output_type": "execute_result"
    }
   ],
   "source": [
    "my_list = [1, 2, 3, 4, 5]\n",
    "del my_list[0]\n",
    "my_list"
   ]
  },
  {
   "cell_type": "code",
   "execution_count": 32,
   "id": "863f0715-2d74-4f00-9153-d2ac6e0806e6",
   "metadata": {},
   "outputs": [
    {
     "data": {
      "text/plain": [
       "2"
      ]
     },
     "execution_count": 32,
     "metadata": {},
     "output_type": "execute_result"
    }
   ],
   "source": [
    "my_list = [1, 2, 3, 4, 5]\n",
    "my_list.pop(1)"
   ]
  },
  {
   "cell_type": "markdown",
   "id": "fbdd9ece-0116-4019-aa15-d0334ed82bd9",
   "metadata": {},
   "source": [
    "### Slicing:\n",
    "Access a range of elements using slicing syntax (start:stop:step)."
   ]
  },
  {
   "cell_type": "code",
   "execution_count": 25,
   "id": "c208038a-1c7c-4d6b-844e-1806f46ec7c9",
   "metadata": {},
   "outputs": [
    {
     "data": {
      "text/plain": [
       "[2, 3]"
      ]
     },
     "execution_count": 25,
     "metadata": {},
     "output_type": "execute_result"
    }
   ],
   "source": [
    "my_list = [1, 2, 3, 4, 5]\n",
    "my_list[1:3]"
   ]
  },
  {
   "cell_type": "markdown",
   "id": "ba4f404c-792e-4f15-946b-531bc543305b",
   "metadata": {},
   "source": [
    "### Append:\n",
    "Add an element to the end of the list using the append() method."
   ]
  },
  {
   "cell_type": "code",
   "execution_count": 26,
   "id": "3a02ab82-1a8f-4223-8d98-c1d24ed3a302",
   "metadata": {},
   "outputs": [],
   "source": [
    "my_list = [1, 2, 3]\n",
    "my_list.append(4)"
   ]
  },
  {
   "cell_type": "code",
   "execution_count": 27,
   "id": "e5f0f75b-37b4-4819-92f5-cf98344d61e6",
   "metadata": {},
   "outputs": [
    {
     "data": {
      "text/plain": [
       "[1, 2, 3, 4]"
      ]
     },
     "execution_count": 27,
     "metadata": {},
     "output_type": "execute_result"
    }
   ],
   "source": [
    "my_list"
   ]
  },
  {
   "cell_type": "markdown",
   "id": "c186b9dd-558f-4984-92a9-33bb037259be",
   "metadata": {},
   "source": [
    "### Insert:\n",
    "Insert an element at a specific index using the insert() method."
   ]
  },
  {
   "cell_type": "code",
   "execution_count": 28,
   "id": "8ef05e4a-37e5-4d8c-ba16-0d81964da51d",
   "metadata": {},
   "outputs": [],
   "source": [
    "my_list = [1, 2, 3]\n",
    "my_list.insert(1, 4)"
   ]
  },
  {
   "cell_type": "code",
   "execution_count": 29,
   "id": "26e80dde-3f88-4c08-b63f-73faef1c3a32",
   "metadata": {},
   "outputs": [
    {
     "data": {
      "text/plain": [
       "[1, 4, 2, 3]"
      ]
     },
     "execution_count": 29,
     "metadata": {},
     "output_type": "execute_result"
    }
   ],
   "source": [
    "my_list"
   ]
  },
  {
   "cell_type": "markdown",
   "id": "0a433d44-be96-441c-8df9-8b391e4b1016",
   "metadata": {},
   "source": [
    "### Remove: \n",
    "Remove the first occurrence of an element using the remove() method."
   ]
  },
  {
   "cell_type": "code",
   "execution_count": 30,
   "id": "7dc7a904-2cb0-4e0a-a911-f56a9047e698",
   "metadata": {},
   "outputs": [],
   "source": [
    "my_list = [1, 2, 3, 2, 4]\n",
    "my_list.remove(2)\n"
   ]
  },
  {
   "cell_type": "code",
   "execution_count": 31,
   "id": "75d34b98-eede-483f-91d4-b93ddb14b726",
   "metadata": {},
   "outputs": [
    {
     "data": {
      "text/plain": [
       "[1, 3, 2, 4]"
      ]
     },
     "execution_count": 31,
     "metadata": {},
     "output_type": "execute_result"
    }
   ],
   "source": [
    "my_list"
   ]
  },
  {
   "cell_type": "code",
   "execution_count": null,
   "id": "55b175f4-1449-4b2d-9892-2b05cbfcd5be",
   "metadata": {},
   "outputs": [],
   "source": [
    "### 4. Compare and contrast tuples and lists with example"
   ]
  },
  {
   "cell_type": "markdown",
   "id": "3ba580e8-ed3b-4987-a9c9-ce819cac0434",
   "metadata": {},
   "source": [
    "In Python, tuples and lists are two fundamental data structures used to store collections of data. While they share some similarities, they have key differences in terms of mutability, syntax, and usage.\n",
    "\n",
    "Similarities\n",
    "\n",
    "- Both tuples and lists can store multiple values.\n",
    "- Both are iterable, meaning you can loop through their elements.\n",
    "- Both support indexing and slicing.\n",
    "\n",
    "Differences\n",
    "\n",
    "- Immutability: Tuples are immutable, meaning their contents cannot be changed after creation. Lists are mutable, meaning their contents can be modified.\n",
    "- Syntax: Tuples use parentheses () while lists use square brackets [].\n",
    "- Usage: Tuples are often used for data that shouldn't be changed, like coordinates or dates, while lists are used for collections that need to be modified"
   ]
  },
  {
   "cell_type": "code",
   "execution_count": 33,
   "id": "6197e3e6-adf9-4282-b20d-5a77d9cf1728",
   "metadata": {},
   "outputs": [
    {
     "data": {
      "text/plain": [
       "2"
      ]
     },
     "execution_count": 33,
     "metadata": {},
     "output_type": "execute_result"
    }
   ],
   "source": [
    "my_tuple = (1, 2, 3)\n",
    "my_tuple[1]"
   ]
  },
  {
   "cell_type": "code",
   "execution_count": 34,
   "id": "3b062da8-1b7e-4fa4-b47e-137c54c520ea",
   "metadata": {},
   "outputs": [
    {
     "ename": "TypeError",
     "evalue": "'tuple' object does not support item assignment",
     "output_type": "error",
     "traceback": [
      "\u001b[0;31m---------------------------------------------------------------------------\u001b[0m",
      "\u001b[0;31mTypeError\u001b[0m                                 Traceback (most recent call last)",
      "Cell \u001b[0;32mIn[34], line 1\u001b[0m\n\u001b[0;32m----> 1\u001b[0m \u001b[43mmy_tuple\u001b[49m\u001b[43m[\u001b[49m\u001b[38;5;241;43m0\u001b[39;49m\u001b[43m]\u001b[49m \u001b[38;5;241m=\u001b[39m \u001b[38;5;241m10\u001b[39m\n",
      "\u001b[0;31mTypeError\u001b[0m: 'tuple' object does not support item assignment"
     ]
    }
   ],
   "source": [
    "my_tuple[0] = 10 # tuples are immutable means we cannot change once they are created"
   ]
  },
  {
   "cell_type": "code",
   "execution_count": 35,
   "id": "be5d074a-69c2-42de-9691-7328ccf43517",
   "metadata": {},
   "outputs": [
    {
     "data": {
      "text/plain": [
       "1"
      ]
     },
     "execution_count": 35,
     "metadata": {},
     "output_type": "execute_result"
    }
   ],
   "source": [
    "my_list = [1, 2, 3]\n",
    "my_list[0]"
   ]
  },
  {
   "cell_type": "code",
   "execution_count": 36,
   "id": "1d35b7fc-ecbb-451f-87a2-14a9579752cd",
   "metadata": {},
   "outputs": [],
   "source": [
    "my_list[0] = 10"
   ]
  },
  {
   "cell_type": "code",
   "execution_count": 37,
   "id": "cbedb98c-3ded-4f40-bd40-ab6c2860b54c",
   "metadata": {},
   "outputs": [
    {
     "data": {
      "text/plain": [
       "[10, 2, 3]"
      ]
     },
     "execution_count": 37,
     "metadata": {},
     "output_type": "execute_result"
    }
   ],
   "source": [
    "my_list # we can modify because lists are mutable they can change once they are created"
   ]
  },
  {
   "cell_type": "markdown",
   "id": "c18c9fc7-23fc-4dc7-b060-da5036522877",
   "metadata": {},
   "source": [
    "- Tuples are useful for storing data that shouldn't be changed, like a person's name and age:\n",
    "\n",
    "person = (\"John\", 30)\n",
    "\n",
    "\n",
    "- Lists are useful for storing collections of data that need to be modified, like a list of numbers:\n",
    "\n",
    "numbers = [1, 2, 3]\n",
    "numbers.append(4)\n",
    "print(numbers)  # Output: [1, 2, 3, 4]"
   ]
  },
  {
   "cell_type": "markdown",
   "id": "e141e1bf-bca5-4b32-ac13-e4a1e9876051",
   "metadata": {},
   "source": [
    "### 5. Describe the features of sets and provide examples of their use in python"
   ]
  },
  {
   "cell_type": "markdown",
   "id": "987668f4-7fd7-4564-a94b-fb889c5a35a6",
   "metadata": {},
   "source": [
    "Sets in Python are unordered collections of unique elements, meaning no duplicates are allowed. Here are some key features and examples of sets:\n",
    "\n",
    "Features:\n",
    "\n",
    "1. Unordered: Sets don't maintain the order of elements.\n",
    "2. Unique elements: Sets automatically remove duplicates.\n",
    "3. Mutable: Sets can be modified after creation.\n",
    "4. Fast membership testing: Checking if an element is in a set is efficient."
   ]
  },
  {
   "cell_type": "code",
   "execution_count": null,
   "id": "83e3cda1-f7d0-4d47-9192-37bc60b88b7b",
   "metadata": {},
   "outputs": [],
   "source": [
    "#### 1. Creating a set:\n"
   ]
  },
  {
   "cell_type": "code",
   "execution_count": 38,
   "id": "54d211ad-a9dd-4b45-a21b-94d41f81385d",
   "metadata": {},
   "outputs": [
    {
     "name": "stdout",
     "output_type": "stream",
     "text": [
      "{1, 2, 3, 4, 5}\n"
     ]
    }
   ],
   "source": [
    "my_set = {1, 2, 3, 4, 5}  # curly braces {}\n",
    "print(my_set)  # {1, 2, 3, 4, 5}\n"
   ]
  },
  {
   "cell_type": "markdown",
   "id": "b9e6a615-aa02-4eb8-aaa0-8090f3a16d5c",
   "metadata": {},
   "source": [
    "#### 2. Update"
   ]
  },
  {
   "cell_type": "code",
   "execution_count": null,
   "id": "c036f56b-b07c-4958-b4fd-3420b61d5780",
   "metadata": {},
   "outputs": [],
   "source": [
    "my_set = {1, 2, 3, 4, 5}"
   ]
  },
  {
   "cell_type": "code",
   "execution_count": 54,
   "id": "62398933-22af-4cee-b6e8-66a929c4d5f5",
   "metadata": {},
   "outputs": [],
   "source": [
    "my_set.update('pwskills')"
   ]
  },
  {
   "cell_type": "code",
   "execution_count": 56,
   "id": "77d85af0-d329-40ec-b70d-33fcfcec19f3",
   "metadata": {},
   "outputs": [
    {
     "data": {
      "text/plain": [
       "{1, 2, 3, 4, 5, 'i', 'k', 'l', 'p', 's', 'w'}"
      ]
     },
     "execution_count": 56,
     "metadata": {},
     "output_type": "execute_result"
    }
   ],
   "source": [
    "my_set"
   ]
  },
  {
   "cell_type": "code",
   "execution_count": 57,
   "id": "f36c7476-ab08-4b81-93df-b3bf10a58059",
   "metadata": {},
   "outputs": [],
   "source": [
    "my_set.update(['pwskills'])"
   ]
  },
  {
   "cell_type": "code",
   "execution_count": 58,
   "id": "f4bc7e27-aaa8-4c72-82a8-f4cad8a9c09a",
   "metadata": {},
   "outputs": [
    {
     "data": {
      "text/plain": [
       "{1, 2, 3, 4, 5, 'i', 'k', 'l', 'p', 'pwskills', 's', 'w'}"
      ]
     },
     "execution_count": 58,
     "metadata": {},
     "output_type": "execute_result"
    }
   ],
   "source": [
    "my_set"
   ]
  },
  {
   "cell_type": "markdown",
   "id": "80ed1e81-ab35-4689-a913-957cea0c5bc6",
   "metadata": {},
   "source": [
    "#### 3. Clear elements"
   ]
  },
  {
   "cell_type": "code",
   "execution_count": 60,
   "id": "464dbf1b-e50a-401a-96be-9303190a95ee",
   "metadata": {},
   "outputs": [],
   "source": [
    "my_set = {1, 2, 3, 4, 5}\n",
    "my_set.clear()"
   ]
  },
  {
   "cell_type": "code",
   "execution_count": 61,
   "id": "2a3cde03-5bda-4c7e-af2f-d3c1f25b64b0",
   "metadata": {},
   "outputs": [
    {
     "data": {
      "text/plain": [
       "set()"
      ]
     },
     "execution_count": 61,
     "metadata": {},
     "output_type": "execute_result"
    }
   ],
   "source": [
    "my_set"
   ]
  },
  {
   "cell_type": "markdown",
   "id": "d1a62135-5b5d-4659-ba8f-c8d279e1760e",
   "metadata": {},
   "source": [
    "#### 4. Adding elements:\n"
   ]
  },
  {
   "cell_type": "code",
   "execution_count": 39,
   "id": "1a9b45c5-3a5f-4cce-a9d4-3c2f862369d3",
   "metadata": {},
   "outputs": [
    {
     "name": "stdout",
     "output_type": "stream",
     "text": [
      "{1, 2, 3, 4, 5, 6}\n"
     ]
    }
   ],
   "source": [
    "my_set.add(6)\n",
    "print(my_set)  # {1, 2, 3, 4, 5, 6}"
   ]
  },
  {
   "cell_type": "markdown",
   "id": "8f5b6229-ada0-4bf5-bf27-c455953bfe51",
   "metadata": {},
   "source": [
    "#### 5. Removing duplicates:\n"
   ]
  },
  {
   "cell_type": "code",
   "execution_count": 40,
   "id": "db8802a2-ab2c-446f-97d6-e3862c86df9a",
   "metadata": {},
   "outputs": [
    {
     "name": "stdout",
     "output_type": "stream",
     "text": [
      "{1, 2, 3}\n"
     ]
    }
   ],
   "source": [
    "my_set = {1, 2, 2, 3, 3, 3}  # duplicates are removed\n",
    "print(my_set)  # {1, 2, 3}\n"
   ]
  },
  {
   "cell_type": "markdown",
   "id": "cb12db51-90f6-45c6-8051-3c91dd1d5888",
   "metadata": {},
   "source": [
    "#### 6. Membership testing:\n"
   ]
  },
  {
   "cell_type": "code",
   "execution_count": 41,
   "id": "bfcf89cd-53fa-4d5d-ad7a-bca04f1a0e98",
   "metadata": {},
   "outputs": [
    {
     "name": "stdout",
     "output_type": "stream",
     "text": [
      "True\n",
      "False\n"
     ]
    }
   ],
   "source": [
    "my_set = {1, 2, 3, 4, 5}\n",
    "print(2 in my_set)  # True\n",
    "print(7 in my_set)  # False"
   ]
  },
  {
   "cell_type": "markdown",
   "id": "5c68e049-73cf-46d0-9ee5-94ab229849e4",
   "metadata": {},
   "source": [
    "#### 7.Set operations:"
   ]
  },
  {
   "cell_type": "code",
   "execution_count": 42,
   "id": "da13989a-a17c-472e-945a-ef64c0f710bd",
   "metadata": {},
   "outputs": [],
   "source": [
    "set1 = {1, 2, 3}\n",
    "set2 = {3, 4, 5}\n"
   ]
  },
  {
   "cell_type": "code",
   "execution_count": 43,
   "id": "41dbb958-ad14-4153-9cfd-45faede31fd6",
   "metadata": {},
   "outputs": [
    {
     "name": "stdout",
     "output_type": "stream",
     "text": [
      "{1, 2, 3, 4, 5}\n"
     ]
    }
   ],
   "source": [
    "print(set1.union(set2))  # {1, 2, 3, 4, 5} (combined elements)"
   ]
  },
  {
   "cell_type": "code",
   "execution_count": 46,
   "id": "14a0045e-8b96-4d4f-bab5-afecd3e34064",
   "metadata": {},
   "outputs": [
    {
     "name": "stdout",
     "output_type": "stream",
     "text": [
      "{1, 2, 3, 4, 5}\n"
     ]
    }
   ],
   "source": [
    "print(set1 | set2)"
   ]
  },
  {
   "cell_type": "code",
   "execution_count": 44,
   "id": "27cb57d1-a41e-4755-b583-ccd02fe05b8a",
   "metadata": {},
   "outputs": [
    {
     "name": "stdout",
     "output_type": "stream",
     "text": [
      "{3}\n"
     ]
    }
   ],
   "source": [
    "print(set1.intersection(set2))  # {3} (common elements)"
   ]
  },
  {
   "cell_type": "code",
   "execution_count": 47,
   "id": "1db671e7-7f88-4254-b41c-6c615104d4b6",
   "metadata": {},
   "outputs": [
    {
     "name": "stdout",
     "output_type": "stream",
     "text": [
      "{3}\n"
     ]
    }
   ],
   "source": [
    "print(set1 & set2)"
   ]
  },
  {
   "cell_type": "code",
   "execution_count": 45,
   "id": "e7ec5658-1e45-4f16-bedb-8338e46c38ab",
   "metadata": {},
   "outputs": [
    {
     "name": "stdout",
     "output_type": "stream",
     "text": [
      "{1, 2}\n"
     ]
    }
   ],
   "source": [
    "print(set1.difference(set2))  # {1, 2} (elements in set1 but not set2)\n"
   ]
  },
  {
   "cell_type": "code",
   "execution_count": 48,
   "id": "1b2296ba-34ee-4bfe-9e34-3509cde1b0b8",
   "metadata": {},
   "outputs": [
    {
     "name": "stdout",
     "output_type": "stream",
     "text": [
      "{1, 2}\n"
     ]
    }
   ],
   "source": [
    "print(set1 - set2)"
   ]
  },
  {
   "cell_type": "code",
   "execution_count": 63,
   "id": "d91dd74b-569c-4668-b266-adfdeb5d95cb",
   "metadata": {},
   "outputs": [
    {
     "data": {
      "text/plain": [
       "{1, 2, 4, 5}"
      ]
     },
     "execution_count": 63,
     "metadata": {},
     "output_type": "execute_result"
    }
   ],
   "source": [
    "set1.symmetric_difference(set2)"
   ]
  },
  {
   "cell_type": "code",
   "execution_count": 51,
   "id": "6b7d0c67-a0f6-4238-a9c1-950fd93e4288",
   "metadata": {},
   "outputs": [
    {
     "name": "stdout",
     "output_type": "stream",
     "text": [
      "{1, 2, 4, 5}\n"
     ]
    }
   ],
   "source": [
    "print(set1 ^ set2) # it will not execute commom elements"
   ]
  },
  {
   "cell_type": "markdown",
   "id": "231d7462-db98-49d7-9e74-1667439fe039",
   "metadata": {},
   "source": [
    "#### 8. Converting lists to sets:\n"
   ]
  },
  {
   "cell_type": "code",
   "execution_count": 62,
   "id": "4e6e28ec-c21c-4b69-891f-a288691244c1",
   "metadata": {},
   "outputs": [
    {
     "name": "stdout",
     "output_type": "stream",
     "text": [
      "{1, 2, 3}\n"
     ]
    }
   ],
   "source": [
    "my_list = [1, 2, 2, 3, 3, 3]\n",
    "my_set = set(my_list)\n",
    "print(my_set)  # {1, 2, 3}\n"
   ]
  },
  {
   "cell_type": "markdown",
   "id": "fca7dd65-7660-4966-a991-30efbffcb09d",
   "metadata": {},
   "source": [
    "### 6.Discuss the use cases of tuples and sets in python programming"
   ]
  },
  {
   "cell_type": "markdown",
   "id": "4aef84bd-35a5-466a-aa2f-853e02da2293",
   "metadata": {},
   "source": [
    "In Python programming, tuples and sets are essential data structures that offer unique benefits and use cases. Understanding when to use each is crucial for efficient and effective coding.\n",
    "\n",
    "Tuples\n",
    "\n",
    "Tuples are immutable, ordered collections of values. They are denoted by parentheses () and are useful in the following scenarios:\n",
    "\n",
    "- Data storage: Tuples are ideal for storing small, fixed collections of data, like coordinates (x, y) or RGB values (red, green, blue).\n",
    "- Function arguments: Tuples are often used as function arguments, especially when a function requires a small, fixed number of inputs.\n",
    "- Returning multiple values: Functions can return multiple values as a tuple, making it easier to work with multiple outputs.\n",
    "- Immutable data: Tuples are immutable, making them suitable for storing data that shouldn't be modified.\n",
    "- Dictionary keys: Tuples can be used as keys in dictionaries, as they are immutable and can be hashed.\n",
    "\n",
    "Code Example\n",
    "\n",
    "my_tuple = (1, 2, 3)\n",
    "print(my_tuple[0])  # Output: 1\n",
    "\n",
    "Sets\n",
    "\n",
    "Sets are unordered, mutable collections of unique values. They are denoted by curly braces {} and are useful in the following scenarios:\n",
    "\n",
    "- Unique values: Sets automatically remove duplicates, making them ideal for storing unique values, like a list of unique words in a text.\n",
    "- Fast membership testing: Sets allow for fast membership testing, making them suitable for checking if an element is in a collection.\n",
    "- Set operations: Sets support various set operations like union, intersection, and difference, making them useful for data analysis and manipulation.\n",
    "- Data cleaning: Sets can be used to remove duplicates from a dataset.\n",
    "- Mathematical operations: Sets can be used to represent mathematical sets and perform operations like union, intersection, and complement.\n",
    "\n",
    "Code Example\n",
    "\n",
    "my_set = {1, 2, 3}\n",
    "print(2 in my_set)  # Output: True\n"
   ]
  },
  {
   "cell_type": "code",
   "execution_count": 65,
   "id": "d175fc0c-193a-4ab6-8333-290018fcdff3",
   "metadata": {},
   "outputs": [
    {
     "name": "stdout",
     "output_type": "stream",
     "text": [
      "1\n"
     ]
    }
   ],
   "source": [
    "my_tuple = (1, 2, 3) \n",
    "print(my_tuple[0])"
   ]
  },
  {
   "cell_type": "code",
   "execution_count": 67,
   "id": "47e2f537-913b-4900-89a6-a064291b1e84",
   "metadata": {},
   "outputs": [
    {
     "name": "stdout",
     "output_type": "stream",
     "text": [
      "True\n"
     ]
    }
   ],
   "source": [
    "my_set = {1, 2, 3} \n",
    "print(2 in my_set)"
   ]
  },
  {
   "cell_type": "markdown",
   "id": "c172627f-5fbc-4e4a-808a-94fc329d8c2c",
   "metadata": {},
   "source": [
    "Tuples:\n",
    "\n",
    "1. User Profiles: Store user profiles as tuples, containing information like name, email, and age.\n",
    "2. Product Information: Store product details as tuples, including price, description, and rating.\n",
    "3. Geographic Locations: Represent cities or locations as tuples, with latitude and longitude coordinates.\n",
    "4. Time Series Data: Store time series data, like stock prices or weather data, as tuples with date and value.\n",
    "5. Game Data: Store game data, like player stats or level information, as tuples.\n",
    "6. Scientific Data: Store scientific data, like experiment results or sensor readings, as tuples.\n",
    "7. Settings: Store application settings, like font size or theme, as tuples.\n",
    "\n",
    "Sets:\n",
    "\n",
    "1. Unique Tags: Store unique tags or categories for blog posts or products as sets.\n",
    "2. Allowed Users: Store allowed users or permissions as sets, for access control.\n",
    "3. Valid Options: Store valid options or choices for a survey or form as sets.\n",
    "4. Unique IDs: Store unique IDs or serial numbers as sets, to prevent duplicates.\n",
    "5. Categories: Store categories or genres for books or movies as sets.\n",
    "6. Friends List: Store friends or followers as sets, for social media applications.\n",
    "7. Search Results: Store search results as sets, to remove duplicates and show unique results.\n"
   ]
  },
  {
   "cell_type": "markdown",
   "id": "34c7ef71-1151-43af-86a6-211fbbf97c52",
   "metadata": {},
   "source": [
    "### 7.Describe how to add, modify,  and delete items in a dictionary with examples"
   ]
  },
  {
   "cell_type": "markdown",
   "id": "0006a64f-47bb-491f-a6e1-7b7187654292",
   "metadata": {},
   "source": [
    "#### Adding Items to a Dictionary\n",
    "\n",
    "To add a new item to a dictionary, you can use the assignment operator (=) with the key and value. If the key does not exist in the dictionary, a new entry will be created. If the key already exists, the value will be updated.\n"
   ]
  },
  {
   "cell_type": "markdown",
   "id": "66e30f96-46a5-4f5c-86dd-4eb367c65f5c",
   "metadata": {},
   "source": [
    "Add Item:\n",
    "\n",
    "- Use the key to add a new item: dict[key] = value\n",
    "- Example: my_dict['new_key'] = 'new_value'"
   ]
  },
  {
   "cell_type": "code",
   "execution_count": 70,
   "id": "6731422e-c21a-4172-ba91-fa2af2f7847f",
   "metadata": {},
   "outputs": [
    {
     "name": "stdout",
     "output_type": "stream",
     "text": [
      "{'Michael': 50000, 'Emily': 60000, 'Ryan': 55000}\n"
     ]
    }
   ],
   "source": [
    "employee_salary = {'Michael': 50000, 'Emily': 60000}\n",
    "employee_salary['Ryan'] = 55000  # Add a new employee\n",
    "print(employee_salary)"
   ]
  },
  {
   "cell_type": "code",
   "execution_count": 72,
   "id": "672ae3b9-7341-4780-bc01-f6a9c4223bf5",
   "metadata": {},
   "outputs": [
    {
     "name": "stdout",
     "output_type": "stream",
     "text": [
      "{'To Kill a Mockingbird': 'Harper Lee', '1984': 'George Orwell', 'The Great Gatsby': 'F. Scott Fitzgerald'}\n"
     ]
    }
   ],
   "source": [
    "book_authors = {'To Kill a Mockingbird': 'Harper Lee', '1984': 'George Orwell'}\n",
    "book_authors['The Great Gatsby'] = 'F. Scott Fitzgerald'  # Add a new book\n",
    "print(book_authors)"
   ]
  },
  {
   "cell_type": "markdown",
   "id": "9701a1ee-00c3-4d0b-9e3f-982163ce71a6",
   "metadata": {},
   "source": [
    "#### Modifying Items in a Dictionary"
   ]
  },
  {
   "cell_type": "markdown",
   "id": "fa9a4fa5-7def-4b4f-b2cc-380d562ca2eb",
   "metadata": {},
   "source": [
    "Modify Item:\n",
    "\n",
    "- Use the key to modify an existing item: dict[key] = new_value\n",
    "- Example: my_dict['existing_key'] = 'new_value'\n"
   ]
  },
  {
   "cell_type": "code",
   "execution_count": 73,
   "id": "9b1fdc9c-87e5-4a74-b27f-9ec5c49b4d9a",
   "metadata": {},
   "outputs": [
    {
     "name": "stdout",
     "output_type": "stream",
     "text": [
      "{'Michael': 52000, 'Emily': 60000}\n"
     ]
    }
   ],
   "source": [
    "employee_salary = {'Michael': 50000, 'Emily': 60000}\n",
    "employee_salary['Michael'] = 52000  # Update Michael's salary\n",
    "print(employee_salary)"
   ]
  },
  {
   "cell_type": "code",
   "execution_count": 74,
   "id": "fc6738ef-0391-4cea-a42f-edfc14026b03",
   "metadata": {},
   "outputs": [
    {
     "name": "stdout",
     "output_type": "stream",
     "text": [
      "{'To Kill a Mockingbird': 'Harper Lee', '1984': 'Eric Arthur Blair'}\n"
     ]
    }
   ],
   "source": [
    "book_authors = {'To Kill a Mockingbird': 'Harper Lee', '1984': 'George Orwell'}\n",
    "book_authors['1984'] = 'Eric Arthur Blair'  # Update author name for 1984\n",
    "print(book_authors)"
   ]
  },
  {
   "cell_type": "markdown",
   "id": "84d7304c-06cf-4142-a22c-b25e40158729",
   "metadata": {},
   "source": [
    "#### Deleting Items from a Dictionary"
   ]
  },
  {
   "cell_type": "markdown",
   "id": "52d147df-5e1b-4c64-94e3-7e9e4378201b",
   "metadata": {},
   "source": [
    "Delete Item:\n",
    "\n",
    "- Use the del statement with the key: del dict[key]\n",
    "- Example: del my_dict['key_to_delete']"
   ]
  },
  {
   "cell_type": "code",
   "execution_count": 76,
   "id": "726cf28b-5f38-416d-ab70-4790d9ef3314",
   "metadata": {},
   "outputs": [
    {
     "name": "stdout",
     "output_type": "stream",
     "text": [
      "{'Emily': 60000}\n"
     ]
    }
   ],
   "source": [
    "employee_salary = {'Michael': 50000, 'Emily': 60000}\n",
    "del employee_salary['Michael']  # Delete Michael's entry\n",
    "print(employee_salary) \n"
   ]
  },
  {
   "cell_type": "markdown",
   "id": "57e90e69-05a8-4bff-8d64-c456a53df6ec",
   "metadata": {},
   "source": [
    "### 8. Discuss the importance of dictionary keys using immutable and provide examples"
   ]
  },
  {
   "cell_type": "markdown",
   "id": "5e178358-1795-4ea9-806d-49a58ea4856e",
   "metadata": {},
   "source": [
    "In Python, dictionaries are a fundamental data structure used to store and manipulate data. A dictionary consists of key-value pairs, where keys are unique identifiers for values. Keys play a crucial role in dictionaries, and using immutable objects as keys is essential.\n",
    "\n",
    "Why Immutable Keys are Important\n",
    "\n",
    "Immutable objects, such as strings, integers, and tuples, cannot be changed after creation. Using immutable objects as keys ensures that the key remains consistent, preventing unexpected changes to the dictionary. This consistency is crucial for several reasons:\n",
    "\n",
    "1. Fast Lookups: Immutable keys enable fast lookups, making dictionaries efficient for storing and retrieving data.\n",
    "2. Hashing: Immutable keys allow for efficient hashing, which is essential for maintaining the dictionary's integrity.\n",
    "3. Consistency: Immutable keys ensure that the key remains the same, preventing unexpected changes to the dictionary.\n",
    "\n",
    "Examples\n",
    "\n",
    "Valid Keys\n",
    "\n",
    "- Strings (e.g., 'name', 'age')\n",
    "- Integers (e.g., 1, 2)\n",
    "- Tuples (e.g., ('a', 'b'))\n",
    "\n",
    "Invalid Keys\n",
    "\n",
    "- Lists (e.g., [1, 2])\n",
    "- Dictionaries (e.g., {'a': 1})\n",
    "- Mutable objects\n",
    "\n",
    "Conclusion\n",
    "\n",
    "In conclusion, using immutable objects as dictionary keys is vital in Python. It ensures the integrity and efficiency of the dictionary data structure, enabling fast lookups and maintaining consistency. Remember, only immutable objects like strings, integers, and tuples should be used as keys in dictionaries."
   ]
  },
  {
   "cell_type": "code",
   "execution_count": 78,
   "id": "6926d591-0d0a-44a4-9940-db9d4327e791",
   "metadata": {},
   "outputs": [
    {
     "name": "stdout",
     "output_type": "stream",
     "text": [
      "John\n"
     ]
    }
   ],
   "source": [
    "dict_valid = {'name': 'John', 'age': 30}  # Strings as keys\n",
    "print(dict_valid['name'])\n"
   ]
  },
  {
   "cell_type": "code",
   "execution_count": 79,
   "id": "ab3aaaa3-79d9-4fbe-a02b-a80b373f58a9",
   "metadata": {},
   "outputs": [
    {
     "ename": "TypeError",
     "evalue": "unhashable type: 'list'",
     "output_type": "error",
     "traceback": [
      "\u001b[0;31m---------------------------------------------------------------------------\u001b[0m",
      "\u001b[0;31mTypeError\u001b[0m                                 Traceback (most recent call last)",
      "Cell \u001b[0;32mIn[79], line 1\u001b[0m\n\u001b[0;32m----> 1\u001b[0m dict_invalid \u001b[38;5;241m=\u001b[39m {[\u001b[38;5;241m1\u001b[39m, \u001b[38;5;241m2\u001b[39m]: \u001b[38;5;124m'\u001b[39m\u001b[38;5;124mvalue\u001b[39m\u001b[38;5;124m'\u001b[39m}  \u001b[38;5;66;03m# List as key (invalid)\u001b[39;00m\n\u001b[1;32m      2\u001b[0m \u001b[38;5;66;03m# Raises TypeError: unhashable type: 'list\u001b[39;00m\n",
      "\u001b[0;31mTypeError\u001b[0m: unhashable type: 'list'"
     ]
    }
   ],
   "source": [
    "dict_invalid = {[1, 2]: 'value'}  # List as key (invalid)\n",
    "# Raises TypeError: unhashable type: 'list"
   ]
  },
  {
   "cell_type": "code",
   "execution_count": 80,
   "id": "9366fd16-813e-47ab-81ea-76430bf676fa",
   "metadata": {},
   "outputs": [
    {
     "name": "stdout",
     "output_type": "stream",
     "text": [
      "value\n"
     ]
    }
   ],
   "source": [
    "dict_valid = {(1, 2): 'value'}  # Tuple as key (valid)\n",
    "print(dict_valid[(1, 2)])"
   ]
  },
  {
   "cell_type": "code",
   "execution_count": 81,
   "id": "943b9c39-befd-48f3-a0c0-1f6094528696",
   "metadata": {},
   "outputs": [
    {
     "ename": "TypeError",
     "evalue": "unhashable type: 'list'",
     "output_type": "error",
     "traceback": [
      "\u001b[0;31m---------------------------------------------------------------------------\u001b[0m",
      "\u001b[0;31mTypeError\u001b[0m                                 Traceback (most recent call last)",
      "Cell \u001b[0;32mIn[81], line 1\u001b[0m\n\u001b[0;32m----> 1\u001b[0m dict_invalid \u001b[38;5;241m=\u001b[39m {[\u001b[38;5;241m1\u001b[39m, \u001b[38;5;241m2\u001b[39m]: \u001b[38;5;124m'\u001b[39m\u001b[38;5;124mvalue\u001b[39m\u001b[38;5;124m'\u001b[39m}  \u001b[38;5;66;03m# List as key (invalid)\u001b[39;00m\n",
      "\u001b[0;31mTypeError\u001b[0m: unhashable type: 'list'"
     ]
    }
   ],
   "source": [
    "dict_invalid = {[1, 2]: 'value'}  # List as key (invalid)"
   ]
  },
  {
   "cell_type": "code",
   "execution_count": 82,
   "id": "af532333-df19-4b02-bc62-7990837a2cd0",
   "metadata": {},
   "outputs": [
    {
     "name": "stdout",
     "output_type": "stream",
     "text": [
      "John\n"
     ]
    }
   ],
   "source": [
    "dict_valid = {'name': 'John', 'age': 30}  # Strings as keys (valid)\n",
    "print(dict_valid['name'])"
   ]
  },
  {
   "cell_type": "code",
   "execution_count": 83,
   "id": "8d67151d-a828-4854-b67d-63200e369fa8",
   "metadata": {},
   "outputs": [
    {
     "name": "stdout",
     "output_type": "stream",
     "text": [
      "John\n"
     ]
    }
   ],
   "source": [
    "dict_valid = {'name': 'John', 'age': 30}  # Strings as keys (valid)\n",
    "print(dict_valid['name'])"
   ]
  },
  {
   "cell_type": "code",
   "execution_count": 84,
   "id": "7ff5280d-3505-4a3f-aa4a-32af056fc418",
   "metadata": {},
   "outputs": [
    {
     "name": "stdout",
     "output_type": "stream",
     "text": [
      "value\n"
     ]
    }
   ],
   "source": [
    "dict_valid = {1: 'value', 2: 'other value'}  # Integers as keys (valid)\n",
    "print(dict_valid[1])"
   ]
  },
  {
   "cell_type": "code",
   "execution_count": null,
   "id": "1518b84c-6168-4eea-b35d-9baa941e7437",
   "metadata": {},
   "outputs": [],
   "source": []
  }
 ],
 "metadata": {
  "kernelspec": {
   "display_name": "Python 3 (ipykernel)",
   "language": "python",
   "name": "python3"
  },
  "language_info": {
   "codemirror_mode": {
    "name": "ipython",
    "version": 3
   },
   "file_extension": ".py",
   "mimetype": "text/x-python",
   "name": "python",
   "nbconvert_exporter": "python",
   "pygments_lexer": "ipython3",
   "version": "3.10.8"
  }
 },
 "nbformat": 4,
 "nbformat_minor": 5
}
